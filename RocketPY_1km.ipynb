{
 "cells": [
  {
   "cell_type": "code",
   "execution_count": null,
   "id": "f56ea4ae",
   "metadata": {},
   "outputs": [],
   "source": [
    "import rocketpy\n",
    "from rocketpy import Environment, Rocket, Flight, SolidMotor \n",
    "import pandas as pd\n",
    "import numpy as np\n",
    "from scipy.interpolate import interp1d\n",
    "import datetime "
   ]
  },
  {
   "cell_type": "markdown",
   "id": "07f1169f",
   "metadata": {},
   "source": [
    "# Environment"
   ]
  },
  {
   "cell_type": "code",
   "execution_count": null,
   "id": "f22738f8",
   "metadata": {},
   "outputs": [],
   "source": [
    "env = Environment(\n",
    "    latitude = -21.90795,\n",
    "    longitude = -48.96156,\n",
    "    elevation = 495,\n",
    ")\n",
    "\n",
    "date = datetime.date.today() + datetime.timedelta(days=1)\n",
    "\n",
    "env.set_date(\n",
    "    (date.year, date.month, date.day, 12), \n",
    "    timezone=\"America/Sao_Paulo\"\n",
    ")\n",
    "\n",
    "\n",
    "env.set_atmospheric_model(\n",
    "    type=\"custom_atmosphere\",\n",
    "    wind_u=[\n",
    "        (0, 2.778), \n",
    "        (2000, 2.778) \n",
    "    ],\n",
    "    wind_v=[\n",
    "        (0, 0), \n",
    "        (2000, 0), \n",
    "    ],\n",
    ")\n",
    "env.max_expected_height = 2000\n"
   ]
  },
  {
   "cell_type": "code",
   "execution_count": null,
   "id": "3ff1c8b2",
   "metadata": {},
   "outputs": [],
   "source": [
    "env.info()"
   ]
  },
  {
   "cell_type": "markdown",
   "id": "338c6e1f",
   "metadata": {},
   "source": [
    "# Solid Motor"
   ]
  },
  {
   "cell_type": "code",
   "execution_count": null,
   "id": "3d101f34",
   "metadata": {},
   "outputs": [],
   "source": [
    "Rocket_motor_1km = SolidMotor(\n",
    "    thrust_source=\"thrust_time.csv\",\n",
    "    dry_mass = 2.30,\n",
    "    dry_inertia = (0.0172, 0.0172, 0.0027),\n",
    "    nozzle_radius= 14.7/1000,\n",
    "    grain_number= 2,\n",
    "    grain_density = 1700,\n",
    "    grain_outer_radius = 36 / 1000,\n",
    "    grain_initial_inner_radius = 7.5 / 1000,\n",
    "    grain_initial_height = 110 / 1000,\n",
    "    grain_separation = 1 / 1000,\n",
    "    grains_center_of_mass_position = 150.5 / 1000,\n",
    "    center_of_dry_mass_position = 120.7 / 1000,\n",
    "    nozzle_position= 0,\n",
    "    burn_time= 3.5,\n",
    "    throat_radius= 5.5/1000,\n",
    "    coordinate_system_orientation=\"nozzle_to_combustion_chamber\",\n",
    ")"
   ]
  },
  {
   "cell_type": "code",
   "execution_count": null,
   "id": "3fc38377",
   "metadata": {},
   "outputs": [],
   "source": [
    "Rocket_motor_1km.info()"
   ]
  },
  {
   "cell_type": "markdown",
   "id": "ba842269",
   "metadata": {},
   "source": [
    "# Rocket"
   ]
  },
  {
   "cell_type": "code",
   "execution_count": null,
   "id": "18f9fd82",
   "metadata": {},
   "outputs": [],
   "source": [
    "df = pd.read_csv(\"cd_mach.DAT\")\n",
    "\n",
    "cd_off_func = interp1d(df[\"mach\"], df[\"cd_off\"], fill_value=\"extrapolate\")\n",
    "cd_on_func  = interp1d(df[\"mach\"], df[\"cd_on\"],  fill_value=\"extrapolate\")"
   ]
  },
  {
   "cell_type": "code",
   "execution_count": null,
   "id": "21d0d4c7",
   "metadata": {},
   "outputs": [],
   "source": [
    "Rocket_1km = Rocket(\n",
    "    radius= 37.50/1000,\n",
    "    mass= 5.2,\n",
    "    inertia=(0.534, 0.534, 0.031), \n",
    "    power_off_drag= cd_off_func,\n",
    "    power_on_drag= cd_on_func,\n",
    "    center_of_mass_without_motor= 1.0, \n",
    "    coordinate_system_orientation=\"tail_to_nose\",\n",
    ")\n",
    "\n",
    "Rocket_1km.add_motor(Rocket_motor_1km, position = -26 / 1000)"
   ]
  },
  {
   "cell_type": "markdown",
   "id": "36b6b818",
   "metadata": {},
   "source": [
    "## AED"
   ]
  },
  {
   "cell_type": "code",
   "execution_count": null,
   "id": "49f56e02",
   "metadata": {},
   "outputs": [],
   "source": [
    "nose_cone = Rocket_1km.add_nose(\n",
    "    length= 210.647/1000, kind=\"elliptical\", position= 1536.189 /1000,\n",
    ")\n",
    "\n",
    "fin_set = Rocket_1km.add_trapezoidal_fins(\n",
    "    n=4,\n",
    "    root_chord = 125/ 1000,\n",
    "    tip_chord = 65 / 1000,\n",
    "    span= 65 / 1000,\n",
    "    position= 125 / 1000,\n",
    "    cant_angle = 0,\n",
    ")"
   ]
  },
  {
   "cell_type": "code",
   "execution_count": null,
   "id": "de92a56b",
   "metadata": {},
   "outputs": [],
   "source": [
    "fin_set.all_info()\n",
    "Rocket_1km.plots.static_margin()"
   ]
  },
  {
   "cell_type": "markdown",
   "id": "8d8f7885",
   "metadata": {},
   "source": [
    "## REC"
   ]
  },
  {
   "cell_type": "code",
   "execution_count": null,
   "id": "08c2820b",
   "metadata": {},
   "outputs": [],
   "source": [
    "def usar_paraquedas():\n",
    "    Rocket_1km.add_parachute(\n",
    "        name=\"main\",\n",
    "        cd_s=1.5*np.pi,\n",
    "        trigger=\"apogee\",\n",
    "        sampling_rate=100\n",
    "        )"
   ]
  },
  {
   "cell_type": "markdown",
   "id": "73215b94",
   "metadata": {},
   "source": [
    "# Esquema Do Foguete"
   ]
  },
  {
   "cell_type": "code",
   "execution_count": null,
   "id": "8d9495f4",
   "metadata": {},
   "outputs": [],
   "source": [
    "Rocket_1km.draw()"
   ]
  },
  {
   "cell_type": "markdown",
   "id": "16439d5a",
   "metadata": {},
   "source": [
    "# Flight"
   ]
  },
  {
   "cell_type": "code",
   "execution_count": null,
   "id": "89a3fd93",
   "metadata": {},
   "outputs": [],
   "source": [
    "test_flight_balistic = Flight(\n",
    "    rocket=Rocket_1km, environment=env, rail_length=4, inclination=80, heading=0\n",
    "    )\n",
    "\n",
    "usar_paraquedas()\n",
    "\n",
    "test_flight = Flight(\n",
    "    rocket=Rocket_1km, environment=env, rail_length=4, inclination=80, heading=0\n",
    "    )\n",
    "\n",
    "test_flight.plots.trajectory_3d()\n",
    "test_flight.prints.apogee_conditions()\n",
    "test_flight_balistic.plots.trajectory_3d()"
   ]
  },
  {
   "cell_type": "markdown",
   "id": "fce195a6",
   "metadata": {},
   "source": [
    "### Export data"
   ]
  },
  {
   "cell_type": "code",
   "execution_count": null,
   "id": "03eadb32",
   "metadata": {},
   "outputs": [],
   "source": [
    "test_flight.export_data(\n",
    "    \"Rocket_1km.csv\",\n",
    "    \"angle_of_attack\",\n",
    "    \"mach_number\",\n",
    "    time_step=1.0,\n",
    ")\n",
    "\n",
    "test_flight_balistic.export_data(\n",
    "    \"Rocket_1km.csv\",\n",
    "    \"angle_of_attack\",\n",
    "    \"mach_number\",\n",
    "    time_step=1.0,\n",
    ")\n",
    "\n",
    "test_flight.plots.trajectory_3d(filename=\"trajectory_plot_1km.jpg\")\n",
    "test_flight_balistic.plots.trajectory_3d(filename=\"trajectory_plot_1km_balistic.jpg\")"
   ]
  }
 ],
 "metadata": {
  "kernelspec": {
   "display_name": "Python 3",
   "language": "python",
   "name": "python3"
  },
  "language_info": {
   "codemirror_mode": {
    "name": "ipython",
    "version": 3
   },
   "file_extension": ".py",
   "mimetype": "text/x-python",
   "name": "python",
   "nbconvert_exporter": "python",
   "pygments_lexer": "ipython3",
   "version": "3.11.9"
  }
 },
 "nbformat": 4,
 "nbformat_minor": 5
}
